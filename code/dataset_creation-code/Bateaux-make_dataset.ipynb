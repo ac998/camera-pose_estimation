{
 "cells": [
  {
   "cell_type": "code",
   "execution_count": 1,
   "metadata": {},
   "outputs": [
    {
     "name": "stderr",
     "output_type": "stream",
     "text": [
      "C:\\ProgramData\\Anaconda\\lib\\site-packages\\h5py\\__init__.py:36: FutureWarning: Conversion of the second argument of issubdtype from `float` to `np.floating` is deprecated. In future, it will be treated as `np.float64 == np.dtype(float).type`.\n",
      "  from ._conv import register_converters as _register_converters\n"
     ]
    }
   ],
   "source": [
    "from os import listdir\n",
    "from os.path import isfile, join\n",
    "import  numpy as np\n",
    "import cv2\n",
    "import h5py\n",
    "import matplotlib.pyplot as plt"
   ]
  },
  {
   "cell_type": "code",
   "execution_count": 2,
   "metadata": {},
   "outputs": [],
   "source": [
    "data_path_final = 'data/final_resized'\n",
    "data_path_orig = 'data/capture'\n",
    "data_path_lp = 'data/perturbed_light'\n",
    "data_path_occl = 'data/perturbed_occl'\n",
    "data_path_orig_GT = 'data/capture_GT'\n",
    "data_path_lp_GT = 'data/perturbed_light_GT'\n",
    "data_path_occl_GT = 'data/perturbed_occl_GT'"
   ]
  },
  {
   "cell_type": "code",
   "execution_count": 3,
   "metadata": {},
   "outputs": [
    {
     "name": "stdout",
     "output_type": "stream",
     "text": [
      "(29999, 6)\n",
      "(1500, 6)\n",
      "(1500, 6)\n"
     ]
    }
   ],
   "source": [
    "orig_GT = np.loadtxt(join(data_path_orig_GT, 'captured_GT.csv'), dtype = np.float32)[1:]\n",
    "lp_GT = np.loadtxt(join(data_path_lp_GT, 'light_perturbed_GT.csv'), dtype = np.float32)\n",
    "occl_GT = np.loadtxt(join(data_path_occl_GT, 'occl_perturbed_GT.csv'), dtype = np.float32)\n",
    "print(orig_GT.shape)\n",
    "print(lp_GT.shape)\n",
    "print(occl_GT.shape)"
   ]
  },
  {
   "cell_type": "code",
   "execution_count": 4,
   "metadata": {},
   "outputs": [
    {
     "name": "stdout",
     "output_type": "stream",
     "text": [
      "29999\n",
      "1500\n",
      "1500\n"
     ]
    }
   ],
   "source": [
    "files_orig = [join(data_path_orig, i) for i in listdir(data_path_orig)]\n",
    "files_lp = [join(data_path_lp, i) for i in listdir(data_path_lp)]\n",
    "files_occl = [join(data_path_occl, i) for i in listdir(data_path_occl)]\n",
    "print(len(files_orig))\n",
    "print(len(files_lp))\n",
    "print(len(files_occl))"
   ]
  },
  {
   "cell_type": "code",
   "execution_count": 5,
   "metadata": {},
   "outputs": [
    {
     "name": "stdout",
     "output_type": "stream",
     "text": [
      "(512, 512, 3)\n",
      "(128, 128, 3)\n"
     ]
    },
    {
     "data": {
      "text/plain": [
       "<matplotlib.image.AxesImage at 0x1f05ebfcc88>"
      ]
     },
     "execution_count": 5,
     "metadata": {},
     "output_type": "execute_result"
    },
    {
     "data": {
      "image/png": "[encoded data removed]",
      "text/plain": [
       "<Figure size 432x288 with 1 Axes>"
      ]
     },
     "metadata": {},
     "output_type": "display_data"
    }
   ],
   "source": [
    "sample_img = cv2.imread(join(files_orig[0]))\n",
    "print(sample_img.shape)\n",
    "img_shape = sample_img.shape\n",
    "resized = cv2.resize(sample_img, (128, 128))\n",
    "print(resized.shape)\n",
    "plt.imshow(sample_img)\n",
    "plt.imshow(resized)"
   ]
  },
  {
   "cell_type": "code",
   "execution_count": 6,
   "metadata": {},
   "outputs": [],
   "source": [
    "new_height = 128\n",
    "new_width = 128"
   ]
  },
  {
   "cell_type": "code",
   "execution_count": 7,
   "metadata": {},
   "outputs": [
    {
     "name": "stdout",
     "output_type": "stream",
     "text": [
      "23999\n"
     ]
    }
   ],
   "source": [
    "train_part_idx_orig = int(len(files_orig) * 0.8)\n",
    "train_part_idx_perturbed = int(len(files_lp) * 0.8)\n",
    "print(train_part_idx_orig)"
   ]
  },
  {
   "cell_type": "code",
   "execution_count": null,
   "metadata": {},
   "outputs": [],
   "source": [
    "#train_imgs_orig = np.zeros([len(files_orig[train_part_idx_orig:]), img_shape[0], img_shape[1], img_shape[2]], dtype='uint')\n",
    "# train_imgs_lp = np.zeros([len(files_lp[:train_part_idx_perturbed]), img_shape[0], img_shape[1], img_shape[2]], dtype='uint')\n",
    "# train_imgs_occl = np.zeros([len(files_occl[:train_part_idx_perturbed]), img_shape[0], img_shape[1], img_shape[2]], dtype='uint')\n",
    "# test_imgs_orig = np.zeros([len(files_orig[train_part_idx_orig:]), img_shape[0], img_shape[1], img_shape[2]], dtype='uint')\n",
    "# test_imgs_lp = np.zeros([len(files_lp[train_part_idx_perturbed:]), img_shape[0], img_shape[1], img_shape[2]], dtype='uint')\n",
    "# test_imgs_occl = np.zeros([len(files_lp[train_part_idx_perturbed:]), img_shape[0], img_shape[1], img_shape[2]], dtype='uint')"
   ]
  },
  {
   "cell_type": "code",
   "execution_count": 12,
   "metadata": {},
   "outputs": [
    {
     "name": "stdout",
     "output_type": "stream",
     "text": [
      "26399\n",
      "6600\n"
     ]
    }
   ],
   "source": [
    "train_size = train_part_idx_orig + 2 * train_part_idx_perturbed\n",
    "test_size = (len(files_orig) - train_part_idx_orig) + 2 * (len(files_lp) - train_part_idx_perturbed)\n",
    "print(train_size)\n",
    "print(test_size)"
   ]
  },
  {
   "cell_type": "code",
   "execution_count": 13,
   "metadata": {},
   "outputs": [
    {
     "name": "stdout",
     "output_type": "stream",
     "text": [
      "(26399, 128, 128, 3)\n",
      "(6600, 128, 128, 3)\n"
     ]
    }
   ],
   "source": [
    "# train_shape = (train_size, img_shape[0], img_shape[1], img_shape[2])\n",
    "# test_shape = (test_size, img_shape[0], img_shape[1], img_shape[2])\n",
    "train_shape = (train_size, new_height, new_width, 3)\n",
    "test_shape = (test_size, new_height, new_width, 3)\n",
    "print(train_shape)\n",
    "print(test_shape)"
   ]
  },
  {
   "cell_type": "code",
   "execution_count": 14,
   "metadata": {},
   "outputs": [
    {
     "name": "stdout",
     "output_type": "stream",
     "text": [
      "26399\n",
      "6600\n"
     ]
    }
   ],
   "source": [
    "all_train_files = files_orig[:train_part_idx_orig] + files_lp[:train_part_idx_perturbed] + files_occl[:train_part_idx_perturbed]\n",
    "all_test_files = files_orig[train_part_idx_orig:] + files_lp[train_part_idx_perturbed:] + files_occl[train_part_idx_perturbed:]\n",
    "print(len(all_train_files))\n",
    "print(len(all_test_files))"
   ]
  },
  {
   "cell_type": "code",
   "execution_count": 15,
   "metadata": {},
   "outputs": [
    {
     "name": "stdout",
     "output_type": "stream",
     "text": [
      "(26399, 6)\n",
      "(6600, 6)\n"
     ]
    }
   ],
   "source": [
    "all_train_GT = np.vstack((orig_GT[:train_part_idx_orig], lp_GT[:train_part_idx_perturbed], occl_GT[:train_part_idx_perturbed]))\n",
    "all_test_GT = np.vstack((orig_GT[train_part_idx_orig:], lp_GT[train_part_idx_perturbed:], occl_GT[train_part_idx_perturbed:]))\n",
    "\n",
    "print(all_train_GT.shape)\n",
    "print(all_test_GT.shape)"
   ]
  },
  {
   "cell_type": "code",
   "execution_count": 16,
   "metadata": {},
   "outputs": [],
   "source": [
    "rand_idx_train = np.random.choice(np.arange(train_size), size=train_size, replace=False)\n",
    "rand_idx_test = np.random.choice(np.arange(test_size), size=test_size, replace=False)\n",
    "\n",
    "all_train_files_rand = [all_train_files[i] for i in rand_idx_train]\n",
    "all_test_files_rand = [all_test_files[i] for i in rand_idx_test]\n",
    "all_train_GT_rand = all_train_GT[rand_idx_train, :]\n",
    "all_test_GT_rand = all_test_GT[rand_idx_test, :]"
   ]
  },
  {
   "cell_type": "code",
   "execution_count": 17,
   "metadata": {},
   "outputs": [
    {
     "name": "stdout",
     "output_type": "stream",
     "text": [
      "26399\n",
      "6600\n",
      "(26399, 6)\n",
      "(6600, 6)\n"
     ]
    }
   ],
   "source": [
    "print(len(all_train_files_rand))\n",
    "print(len(all_test_files_rand))\n",
    "print(all_train_GT_rand.shape)\n",
    "print(all_test_GT_rand.shape)"
   ]
  },
  {
   "cell_type": "code",
   "execution_count": 18,
   "metadata": {},
   "outputs": [
    {
     "data": {
      "text/plain": [
       "<HDF5 dataset \"train_img\": shape (26399, 128, 128, 3), type \"|i1\">"
      ]
     },
     "execution_count": 18,
     "metadata": {},
     "output_type": "execute_result"
    }
   ],
   "source": [
    "h5_file_train = h5py.File(join(data_path_final, 'train_set.hdf5'), mode='w')\n",
    "h5_file_train.create_dataset('train_img', train_shape, np.int8)"
   ]
  },
  {
   "cell_type": "code",
   "execution_count": 20,
   "metadata": {},
   "outputs": [],
   "source": [
    "for i in range(train_size):\n",
    "    addr = join(all_train_files_rand[i])\n",
    "    img = cv2.imread(addr)\n",
    "    img = cv2.cvtColor(img, cv2.COLOR_BGR2RGB)\n",
    "    resized_img = cv2.resize(img, (new_height, new_width)) # use if you want to resize images \n",
    "    #h5_file_train['train_img'][i,...] = img[None]\n",
    "    h5_file_train['train_img'][i,...] = resized_img[None] #while storing resized images\n",
    "    \n",
    "h5_file_train.close()"
   ]
  },
  {
   "cell_type": "code",
   "execution_count": 21,
   "metadata": {},
   "outputs": [
    {
     "data": {
      "text/plain": [
       "<HDF5 dataset \"test_img\": shape (6600, 128, 128, 3), type \"|i1\">"
      ]
     },
     "execution_count": 21,
     "metadata": {},
     "output_type": "execute_result"
    }
   ],
   "source": [
    "h5_file_test = h5py.File(join(data_path_final, 'test_set.hdf5'), mode='w')\n",
    "h5_file_test.create_dataset('test_img', test_shape, np.int8)"
   ]
  },
  {
   "cell_type": "code",
   "execution_count": 23,
   "metadata": {},
   "outputs": [],
   "source": [
    "for i in range(test_size):\n",
    "    addr = all_test_files_rand[i]\n",
    "    img = cv2.imread(addr)\n",
    "    img = cv2.cvtColor(img, cv2.COLOR_BGR2RGB)\n",
    "    resized_img = cv2.resize(img, (new_height, new_width))\n",
    "    #h5_file_test['test_img'][i,...] = img[None]\n",
    "    h5_file_test['test_img'][i,...] = resized_img[None]\n",
    "      \n",
    "h5_file_test.close()"
   ]
  },
  {
   "cell_type": "code",
   "execution_count": 24,
   "metadata": {},
   "outputs": [],
   "source": [
    "np.savetxt(join(data_path_final, 'train_GT.csv'), all_train_GT_rand, delimiter='\\t')\n",
    "np.savetxt(join(data_path_final, 'test_GT.csv'), all_test_GT_rand, delimiter='\\t')"
   ]
  },
  {
   "cell_type": "code",
   "execution_count": null,
   "metadata": {},
   "outputs": [],
   "source": []
  }
 ],
 "metadata": {
  "kernelspec": {
   "display_name": "Python 3",
   "language": "python",
   "name": "python3"
  },
  "language_info": {
   "codemirror_mode": {
    "name": "ipython",
    "version": 3
   },
   "file_extension": ".py",
   "mimetype": "text/x-python",
   "name": "python",
   "nbconvert_exporter": "python",
   "pygments_lexer": "ipython3",
   "version": "3.6.5"
  }
 },
 "nbformat": 4,
 "nbformat_minor": 2
}
