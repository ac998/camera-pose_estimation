{
 "cells": [
  {
   "cell_type": "code",
   "execution_count": 1,
   "metadata": {},
   "outputs": [],
   "source": [
    "import numpy as np\n",
    "import os\n",
    "import h5py\n",
    "import matplotlib.pyplot as plt\n",
    "from zipfile import ZipFile\n",
    "import scipy.misc\n",
    "import cv2\n",
    "from PIL import Image\n",
    "from IPython.display import display\n",
    "import glob"
   ]
  },
  {
   "cell_type": "code",
   "execution_count": 2,
   "metadata": {},
   "outputs": [],
   "source": [
    "np.random.seed(0)\n",
    "plt.rcParams['image.cmap'] = 'gray'"
   ]
  },
  {
   "cell_type": "code",
   "execution_count": 3,
   "metadata": {},
   "outputs": [],
   "source": [
    "src_parent_path = os.path.join('sets_labels', 'category_wise')\n",
    "dest_parent_path = os.path.join('sets_labels', 'combined')\n",
    "categories = os.listdir(src_parent_path)"
   ]
  },
  {
   "cell_type": "code",
   "execution_count": 4,
   "metadata": {},
   "outputs": [
    {
     "name": "stdout",
     "output_type": "stream",
     "text": [
      "4949 128 128\n",
      "Created dataset\n",
      "4949 128 128\n",
      "4949 128 128\n",
      "4949 128 128\n",
      "4949 128 128\n",
      "4949 128 128\n",
      "4949 128 128\n"
     ]
    }
   ],
   "source": [
    "with h5py.File(os.path.join(dest_parent_path, 'train_set_A.hdf5'), 'w') as h5_writer:\n",
    "    rows = 0\n",
    "    for cat in categories:\n",
    "        h5_fname = os.path.join(src_parent_path, cat, 'partial_train_set.hdf5')\n",
    "        h5_reader = h5py.File(h5_fname, 'r')\n",
    "        dset = h5_reader['train_images_A'][:,:,:]\n",
    "        ds_len = dset.shape[0]\n",
    "        w = dset.shape[1]\n",
    "        h = dset.shape[2]\n",
    "        print(ds_len, w, h)\n",
    "        if rows == 0:\n",
    "            h5_writer.create_dataset('train_A', dtype=np.float32, shape=(ds_len, w, h), maxshape=(None, w, h))\n",
    "            print(\"Created dataset\")\n",
    "        if (rows + ds_len) <= h5_writer['train_A'][:].shape[0]:\n",
    "            h5_writer['train_A'][rows:rows+ds_len, :, :] = dset[:, :, :]\n",
    "        else:\n",
    "            h5_writer['train_A'].resize((rows+ds_len, w, h))\n",
    "            h5_writer['train_A'][rows:rows+ds_len, :, :] = dset[:, :, :]\n",
    "        h5_reader.close()\n",
    "        rows = rows + ds_len\n",
    "    h5_writer.close()"
   ]
  },
  {
   "cell_type": "code",
   "execution_count": 5,
   "metadata": {},
   "outputs": [
    {
     "name": "stdout",
     "output_type": "stream",
     "text": [
      "4949 128 128\n",
      "Created dataset\n",
      "4949 128 128\n",
      "4949 128 128\n",
      "4949 128 128\n",
      "4949 128 128\n",
      "4949 128 128\n",
      "4949 128 128\n"
     ]
    }
   ],
   "source": [
    "with h5py.File(os.path.join(dest_parent_path, 'train_set_B.hdf5'), 'a') as h5_writer:\n",
    "    rows = 0\n",
    "    for cat in categories:\n",
    "        h5_fname = os.path.join(src_parent_path, cat, 'partial_train_set.hdf5')\n",
    "        h5_reader = h5py.File(h5_fname, 'r')\n",
    "        dset = h5_reader['train_images_B'][:,:,:]\n",
    "        ds_len = dset.shape[0]\n",
    "        w = dset.shape[1]\n",
    "        h = dset.shape[2]\n",
    "        print(ds_len, w, h)\n",
    "        if rows == 0:\n",
    "            h5_writer.create_dataset('train_B', dtype=np.float32, shape=(ds_len, w, h), maxshape=(None, w, h))\n",
    "        if (rows + ds_len) <= h5_writer['train_B'][:].shape[0]:\n",
    "            h5_writer['train_B'][rows:rows+ds_len, :, :] = dset[:, :, :]\n",
    "            print(\"Created dataset\")\n",
    "        else:\n",
    "            h5_writer['train_B'].resize((rows+ds_len, w, h))\n",
    "            h5_writer['train_B'][rows:rows+ds_len, :, :] = dset[:, :, :]\n",
    "        h5_reader.close()\n",
    "        rows = rows + ds_len\n",
    "    h5_writer.close()"
   ]
  },
  {
   "cell_type": "code",
   "execution_count": 21,
   "metadata": {},
   "outputs": [
    {
     "name": "stdout",
     "output_type": "stream",
     "text": [
      "4949 6\n",
      "Created dataset\n",
      "4949 6\n",
      "4949 6\n",
      "4949 6\n",
      "4949 6\n",
      "4949 6\n",
      "4949 6\n"
     ]
    }
   ],
   "source": [
    "with h5py.File(os.path.join(dest_parent_path, 'train_labels.hdf5'), 'w') as h5_writer:\n",
    "    rows = 0\n",
    "    for cat in categories:\n",
    "        h5_fname = os.path.join(src_parent_path, cat, 'partial_train_labels.hdf5')\n",
    "        h5_reader = h5py.File(h5_fname, 'r')\n",
    "        dset = h5_reader['train_GT_A'][:,:]\n",
    "        ds_len = dset.shape[0]\n",
    "        cols = dset.shape[1]\n",
    "        print(ds_len, cols)\n",
    "        \n",
    "        if rows == 0:\n",
    "            h5_writer.create_dataset('train_A_labels', dtype=np.float32, shape=(ds_len, cols), maxshape=(None, cols))\n",
    "            print(\"Created dataset\")\n",
    "        if (rows + ds_len) <= h5_writer['train_A_labels'][:].shape[0]:\n",
    "            h5_writer['train_A_labels'][rows:rows+ds_len, :] = dset[:, :]\n",
    "        else:\n",
    "            h5_writer['train_A_labels'].resize((rows+ds_len, cols))\n",
    "            h5_writer['train_A_labels'][rows:rows+ds_len, :] = dset[:, :]\n",
    "        h5_reader.close()\n",
    "        rows = rows + ds_len\n",
    "    h5_writer.close()"
   ]
  },
  {
   "cell_type": "code",
   "execution_count": 22,
   "metadata": {},
   "outputs": [
    {
     "name": "stdout",
     "output_type": "stream",
     "text": [
      "4949 6\n",
      "Created dataset\n",
      "4949 6\n",
      "4949 6\n",
      "4949 6\n",
      "4949 6\n",
      "4949 6\n",
      "4949 6\n"
     ]
    }
   ],
   "source": [
    "with h5py.File(os.path.join(dest_parent_path, 'train_labels.hdf5'), 'a') as h5_writer:\n",
    "    rows = 0\n",
    "    for cat in categories:\n",
    "        h5_fname = os.path.join(src_parent_path, cat, 'partial_train_labels.hdf5')\n",
    "        h5_reader = h5py.File(h5_fname, 'r')\n",
    "        dset = h5_reader['train_GT_B'][:,:]\n",
    "        ds_len = dset.shape[0]\n",
    "        cols = dset.shape[1]\n",
    "        print(ds_len, cols)\n",
    "        \n",
    "        if rows == 0:\n",
    "            h5_writer.create_dataset('train_B_labels', dtype=np.float32, shape=(ds_len, cols), maxshape=(None, cols))\n",
    "            print(\"Created dataset\")\n",
    "        if (rows + ds_len) <= h5_writer['train_B_labels'][:].shape[0]:\n",
    "            h5_writer['train_B_labels'][rows:rows+ds_len, :] = dset[:, :]\n",
    "        else:\n",
    "            h5_writer['train_B_labels'].resize((rows+ds_len, cols))\n",
    "            h5_writer['train_B_labels'][rows:rows+ds_len, :] = dset[:, :]\n",
    "        h5_reader.close()\n",
    "        rows = rows + ds_len\n",
    "    h5_writer.close()"
   ]
  },
  {
   "cell_type": "code",
   "execution_count": 50,
   "metadata": {},
   "outputs": [
    {
     "name": "stdout",
     "output_type": "stream",
     "text": [
      "500 128 128\n",
      "Created dataset\n",
      "500 128 128\n",
      "500 128 128\n",
      "500 128 128\n",
      "500 128 128\n",
      "500 128 128\n",
      "500 128 128\n"
     ]
    }
   ],
   "source": [
    "with h5py.File(os.path.join(dest_parent_path, 'test_set.hdf5'), 'w') as h5_writer:\n",
    "    rows = 0\n",
    "    for cat in categories:\n",
    "        h5_fname = os.path.join(src_parent_path, cat, 'partial_test_set.hdf5')\n",
    "        h5_reader = h5py.File(h5_fname, 'r')\n",
    "        dset = h5_reader['test_images'][:,:,:]\n",
    "        ds_len = dset.shape[0]\n",
    "        w = dset.shape[1]\n",
    "        h = dset.shape[2]\n",
    "        print(ds_len, w, h)\n",
    "        if rows == 0:\n",
    "            h5_writer.create_dataset('test', dtype=np.float32, shape=(ds_len, w, h), maxshape=(None, w, h))\n",
    "        if (rows + ds_len) <= h5_writer['test'][:].shape[0]:\n",
    "            h5_writer['test'][rows:rows+ds_len, :, :] = dset[:, :, :]\n",
    "            print(\"Created dataset\")\n",
    "        else:\n",
    "            h5_writer['test'].resize((rows+ds_len, w, h))\n",
    "            h5_writer['test'][rows:rows+ds_len, :, :] = dset[:, :, :]\n",
    "        h5_reader.close()\n",
    "        rows = rows + ds_len\n",
    "    h5_writer.close()"
   ]
  },
  {
   "cell_type": "code",
   "execution_count": 51,
   "metadata": {},
   "outputs": [],
   "source": [
    "test_labels = []\n",
    "for cat in categories:\n",
    "    filename = os.path.join(src_parent_path, cat, 'partial_test_labels.csv')\n",
    "    dset = np.loadtxt(filename)\n",
    "    for vec in dset:\n",
    "        test_labels.append(vec)\n",
    "test_labels = np.array(test_labels, dtype = np.float32)\n",
    "np.savetxt(os.path.join(dest_parent_path, 'test_labels.csv'), test_labels)"
   ]
  },
  {
   "cell_type": "code",
   "execution_count": 49,
   "metadata": {},
   "outputs": [
    {
     "name": "stdout",
     "output_type": "stream",
     "text": [
      "(34643, 128, 128)\n",
      "(34643, 128, 128)\n"
     ]
    },
    {
     "data": {
      "image/png": "[encoded data removed]",
      "text/plain": [
       "<Figure size 432x288 with 2 Axes>"
      ]
     },
     "metadata": {
      "needs_background": "light"
     },
     "output_type": "display_data"
    }
   ],
   "source": [
    "test_read = h5py.File(os.path.join(dest_parent_path, 'train_set.hdf5'), 'r')\n",
    "test_read.keys()\n",
    "\n",
    "i = 31000\n",
    "imgs_A = test_read['train_A'][:,:,:]\n",
    "imgs_B = test_read['train_B'][:,:,:]\n",
    "print(imgs_A.shape)\n",
    "print(imgs_B.shape)\n",
    "\n",
    "img_A = imgs_A[i,:,:]\n",
    "img_B = imgs_B['train_B'][i,:,:]\n",
    "fig = plt.figure()\n",
    "fig.add_subplot(1,2,1)\n",
    "plt.imshow(img_A)\n",
    "fig.add_subplot(1,2,2)\n",
    "plt.imshow(img_B)\n",
    "\n",
    "test_read.close()"
   ]
  },
  {
   "cell_type": "code",
   "execution_count": 48,
   "metadata": {},
   "outputs": [
    {
     "name": "stdout",
     "output_type": "stream",
     "text": [
      "(34643, 6)\n",
      "(34643, 6)\n"
     ]
    }
   ],
   "source": [
    "test_read = h5py.File(os.path.join(dest_parent_path, 'train_labels.hdf5'), 'r')\n",
    "test_read.keys()\n",
    "gt_A = test_read['train_A_labels'][:,:]\n",
    "gt_B = test_read['train_B_labels'][:,:]\n",
    "print(gt_A.shape)\n",
    "print(gt_B.shape)\n",
    "test_read.close()"
   ]
  },
  {
   "cell_type": "code",
   "execution_count": null,
   "metadata": {},
   "outputs": [],
   "source": []
  }
 ],
 "metadata": {
  "kernelspec": {
   "display_name": "Python 3",
   "language": "python",
   "name": "python3"
  },
  "language_info": {
   "codemirror_mode": {
    "name": "ipython",
    "version": 3
   },
   "file_extension": ".py",
   "mimetype": "text/x-python",
   "name": "python",
   "nbconvert_exporter": "python",
   "pygments_lexer": "ipython3",
   "version": "3.6.8"
  }
 },
 "nbformat": 4,
 "nbformat_minor": 2
}
